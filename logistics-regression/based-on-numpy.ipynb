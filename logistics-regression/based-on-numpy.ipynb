{
 "cells": [
  {
   "cell_type": "markdown",
   "id": "7d3a7ac3-0026-4e8a-bd67-9b78973b3899",
   "metadata": {},
   "source": [
    "# 定义回归模型"
   ]
  },
  {
   "cell_type": "code",
   "execution_count": 1,
   "id": "ba81e6df-8f11-4084-890a-ac277b92d914",
   "metadata": {},
   "outputs": [],
   "source": [
    "import numpy as np\n",
    "def linear_loss(X, y, w, b):\n",
    "    \"\"\"\n",
    "    输入:\n",
    "        X->变量矩阵\n",
    "        y->标签向量\n",
    "        w->权重矩阵\n",
    "        b->偏置\n",
    "    输出:\n",
    "        y_hat->线性回归预测值\n",
    "    \"\"\"\n",
    "    # 训练样本量\n",
    "    num_train = X.shape[0]\n",
    "    # 训练特征量\n",
    "    num_feawture = X.shape[1]\n",
    "    # 线性回归预测值\n",
    "    y_hat = np.dot(X, w) + b;\n",
    "    # 计算均方损失\n",
    "    loss = np.sum((y_hat - y)**2)/num_train\n",
    "    # 基于均方损失对权重系数的一阶梯度\n",
    "    dw = np.dot(X.T, (y_hat - y))/num_train\n",
    "    # 基于均方损失对偏置的一阶梯度\n",
    "    db = np.sum((y_hat - y))/num_train\n",
    "    return y_hat, loss, dw, db"
   ]
  },
  {
   "cell_type": "markdown",
   "id": "0310f7dd-d166-48c3-84a2-056bcb6c6e85",
   "metadata": {},
   "source": [
    "# 初始化模型参数"
   ]
  },
  {
   "cell_type": "code",
   "execution_count": 2,
   "id": "59841b97-0050-442a-a249-e40384d2abe8",
   "metadata": {},
   "outputs": [],
   "source": [
    "def init_params(dims):\n",
    "    # 初始化权重系数为零向量\n",
    "    w = np.zeros((dims,1))\n",
    "    # 初始化偏置参数为零\n",
    "    b = 0\n",
    "    return w, b"
   ]
  },
  {
   "cell_type": "markdown",
   "id": "54f33f1c-a895-4669-a4f6-515c1b378ef0",
   "metadata": {},
   "source": [
    "# 迭代训练"
   ]
  },
  {
   "cell_type": "code",
   "execution_count": 24,
   "id": "a8cf8aa8-3a7f-44d5-b0c2-ad0751ba021b",
   "metadata": {
    "tags": []
   },
   "outputs": [],
   "source": [
    "def linear_train(X, y, learning_rate = 0.01, train_steps = 10000):\n",
    "    \"\"\"\n",
    "    输入:\n",
    "        X->变量矩阵\n",
    "        y->标签向量\n",
    "        learning_rate->学习率（默认0.01）\n",
    "        train_steps->训练次数（默认10000）\n",
    "    输出:\n",
    "        loss_his->当前迭代的损失\n",
    "        parmes->当前迭代步优化后的参数\n",
    "        grads->当前迭代步的梯度\n",
    "    \"\"\"\n",
    "    # 记录训练损失\n",
    "    loss_his = []\n",
    "    # 初始化模型参数\n",
    "    w, b = init_params(X.shape[1])\n",
    "    # 迭代训练\n",
    "    for i in range(1, train_steps):\n",
    "        # 计算当前迭代的预测值\n",
    "        y_hat, loss, dw, db = linear_loss(X, y, w, b)\n",
    "        # 基于梯度下降法的参更新\n",
    "        w += -learning_rate * dw\n",
    "        b += -learning_rate * db\n",
    "        # 记录当前迭代的损失\n",
    "        loss_his.append(loss)\n",
    "        # 每10000次迭代打印当前损失信息\n",
    "        if (i+1)%10000==0:\n",
    "            print(\"epoch %d loss %f\"%(i+1, loss))\n",
    "        # 将当前迭代步优化后的参数保存到字典中\n",
    "        params={\n",
    "            'w':w,\n",
    "            'b':b\n",
    "        }\n",
    "        # 将当前迭代步的梯度保存到字典中\n",
    "        grads={\n",
    "            'dw':dw,\n",
    "            'db':db\n",
    "        }\n",
    "    return loss_his, params, grads"
   ]
  },
  {
   "cell_type": "markdown",
   "id": "339bf124-b89b-47f4-bd75-62aae4dac680",
   "metadata": {},
   "source": [
    "# 预测函数"
   ]
  },
  {
   "cell_type": "code",
   "execution_count": 4,
   "id": "75e1055a-c875-4649-8ed1-b0ff3e917b6d",
   "metadata": {},
   "outputs": [],
   "source": [
    "def predict(X, params):\n",
    "    \"\"\"\n",
    "    输入:\n",
    "        X->测试数据集\n",
    "        params->模型训练参数\n",
    "    输出:\n",
    "        y_pred->模型预测结果\n",
    "    \"\"\"\n",
    "    # 获取模型参数\n",
    "    w = params['w']\n",
    "    b = params['b']\n",
    "    # 预测\n",
    "    y_pred = np.dot(X, w) + b\n",
    "    return y_pred"
   ]
  },
  {
   "cell_type": "markdown",
   "id": "3018e34b-2b7e-4ada-9bb3-3f73b7d86834",
   "metadata": {},
   "source": [
    "# 定义R2系数函数"
   ]
  },
  {
   "cell_type": "code",
   "execution_count": 5,
   "id": "b4ff7f71-d76e-442f-98ae-493c96585a8b",
   "metadata": {},
   "outputs": [],
   "source": [
    "def r2_score(y_test, y_pred):\n",
    "    \"\"\"\n",
    "    输入:\n",
    "        y_test->测试集标签值\n",
    "        y_pred->测试集预测值\n",
    "    输出:\n",
    "        r2->R2系数\n",
    "    \"\"\"\n",
    "    # 测试标签均值\n",
    "    y_avg = np.mean(y_test)\n",
    "    # 总离差平方和\n",
    "    ss_tot = np.sum((y_test - y_avg)**2)\n",
    "    # 残差平方和\n",
    "    ss_res = np.sum((y_test - y_pred)**2)\n",
    "    # R2计算\n",
    "    r2 = 1 - (ss_res/ss_tot)\n",
    "    return r2"
   ]
  },
  {
   "cell_type": "markdown",
   "id": "355e7b2b-9e97-4e82-a7db-ee3d382156de",
   "metadata": {},
   "source": [
    "# 糖尿病数据测试"
   ]
  },
  {
   "cell_type": "markdown",
   "id": "bbe57152-ad4a-4432-baf8-5aeaa30d3f91",
   "metadata": {},
   "source": [
    "## 导入数据，数据预处理"
   ]
  },
  {
   "cell_type": "code",
   "execution_count": 6,
   "id": "e6079a0d-7c1b-4901-941f-9a1b5dab1c48",
   "metadata": {},
   "outputs": [
    {
     "name": "stdout",
     "output_type": "stream",
     "text": [
      "X_train's shape:  (353, 10)\n",
      "X_test's shape:  (89, 10)\n",
      "y_train's shape:  (353, 1)\n",
      "y_test's shape:  (89, 1)\n"
     ]
    }
   ],
   "source": [
    "from sklearn.datasets import load_diabetes\n",
    "from sklearn.utils import shuffle\n",
    "# 获取diabetes数据集\n",
    "diabetes = load_diabetes()\n",
    "# 获取输入和标签\n",
    "data, target = diabetes.data, diabetes.target \n",
    "# 打乱数据集\n",
    "X, y = shuffle(data, target, random_state = 4)\n",
    "\n",
    "# 按照8/2划分训练集和测试集\n",
    "offset = int(X.shape[0] * 0.8)\n",
    "X_train, X_test, y_train, y_test = X[:offset], X[offset:], y[:offset], y[offset:]\n",
    "\n",
    "# 将训练集改为列向量的形式\n",
    "y_train = y_train.reshape((-1,1))\n",
    "# 将验证集改为列向量的形式\n",
    "y_test = y_test.reshape((-1,1))\n",
    "# 打印训练集和测试集维度\n",
    "print(\"X_train's shape: \", X_train.shape)\n",
    "print(\"X_test's shape: \", X_test.shape)\n",
    "print(\"y_train's shape: \", y_train.shape)\n",
    "print(\"y_test's shape: \", y_test.shape)"
   ]
  },
  {
   "cell_type": "markdown",
   "id": "9b48fc85-9056-40c4-a6fb-6d30cc382f16",
   "metadata": {},
   "source": [
    "## 训练"
   ]
  },
  {
   "cell_type": "code",
   "execution_count": 7,
   "id": "c91cd845-5e79-4862-b583-877dc664cff1",
   "metadata": {},
   "outputs": [
    {
     "name": "stdout",
     "output_type": "stream",
     "text": [
      "epoch 10000 loss 3955.973524\n",
      "epoch 20000 loss 3394.783822\n",
      "epoch 30000 loss 3162.907663\n",
      "epoch 40000 loss 3037.694639\n",
      "epoch 50000 loss 2962.297627\n",
      "epoch 60000 loss 2914.979583\n",
      "epoch 70000 loss 2884.667846\n",
      "epoch 80000 loss 2864.966543\n",
      "epoch 90000 loss 2851.997618\n",
      "epoch 100000 loss 2843.355202\n",
      "epoch 110000 loss 2837.524343\n",
      "epoch 120000 loss 2833.539579\n",
      "epoch 130000 loss 2830.779082\n",
      "epoch 140000 loss 2828.838432\n",
      "epoch 150000 loss 2827.452181\n",
      "epoch 160000 loss 2826.444550\n",
      "epoch 170000 loss 2825.698126\n",
      "epoch 180000 loss 2825.133796\n",
      "epoch 190000 loss 2824.697784\n",
      "{'w': array([[ -67.90121906],\n",
      "       [-233.0298154 ],\n",
      "       [ 561.19805858],\n",
      "       [ 293.42733784],\n",
      "       [ -52.61978545],\n",
      "       [-109.03917202],\n",
      "       [-230.05507844],\n",
      "       [ 117.37083213],\n",
      "       [ 468.63363993],\n",
      "       [  93.45246676]]), 'b': 151.89837963350448}\n"
     ]
    }
   ],
   "source": [
    "# 线性回归模型训练\n",
    "loss_his, params, grads = linear_train(X_train, y_train, 0.01, 200000)\n",
    "# 打印训练后得到模型参数\n",
    "print(params)"
   ]
  },
  {
   "cell_type": "markdown",
   "id": "cd82ed72-d586-4186-a16b-e328faab8f3f",
   "metadata": {},
   "source": [
    "## 训练评估"
   ]
  },
  {
   "cell_type": "code",
   "execution_count": 8,
   "id": "5b4038a3-8d89-4326-ad93-c3a89b17153e",
   "metadata": {},
   "outputs": [
    {
     "name": "stdout",
     "output_type": "stream",
     "text": [
      "[[ 67.08394194]\n",
      " [163.68682839]\n",
      " [126.40526186]\n",
      " [114.4473102 ]\n",
      " [ 84.6845359 ]]\n",
      "[[ 59.]\n",
      " [ 58.]\n",
      " [ 42.]\n",
      " [183.]\n",
      " [ 96.]]\n",
      "0.42838279544288704\n"
     ]
    }
   ],
   "source": [
    "# 基于测试集的预测\n",
    "y_pred = predict(X_test, params)\n",
    "# 打印前五个预测值\n",
    "print(y_pred[:5])\n",
    "print(y_test[:5])\n",
    "print(r2_score(y_test, y_pred))"
   ]
  },
  {
   "cell_type": "markdown",
   "id": "2ebd84b5-28aa-4304-9bfd-2cdc947f1325",
   "metadata": {},
   "source": [
    "## 画图"
   ]
  },
  {
   "cell_type": "code",
   "execution_count": 9,
   "id": "3d1450ea-4951-49e5-8830-04ca3e4a639e",
   "metadata": {},
   "outputs": [
    {
     "data": {
      "image/png": "[encoded data removed]",
      "text/plain": [
       "<Figure size 432x288 with 1 Axes>"
      ]
     },
     "metadata": {
      "needs_background": "light"
     },
     "output_type": "display_data"
    }
   ],
   "source": [
    "import matplotlib.pyplot as plt\n",
    "f = X_test.dot(params['w']) + params['b']\n",
    "\n",
    "plt.scatter(range(X_test.shape[0]), y_test)\n",
    "plt.plot(f, color = 'darkorange')\n",
    "plt.xlabel('X_test')\n",
    "plt.ylabel('y_test')\n",
    "plt.show();"
   ]
  },
  {
   "cell_type": "markdown",
   "id": "1ad5c0f3-690a-4285-a8bc-46fea7037445",
   "metadata": {},
   "source": [
    "# 散点数据测试"
   ]
  },
  {
   "cell_type": "markdown",
   "id": "a5a7bb37-57e0-41e5-98d9-e64b683b9c35",
   "metadata": {},
   "source": [
    "## 载入数据，数据预处理"
   ]
  },
  {
   "cell_type": "code",
   "execution_count": 10,
   "id": "7fcfa3ac-ba50-43be-b3df-07780ae27c07",
   "metadata": {},
   "outputs": [
    {
     "data": {
      "text/plain": [
       "<matplotlib.collections.PathCollection at 0x27e3c256fd0>"
      ]
     },
     "execution_count": 10,
     "metadata": {},
     "output_type": "execute_result"
    },
    {
     "data": {
      "image/png": "[encoded data removed]",
      "text/plain": [
       "<Figure size 432x288 with 1 Axes>"
      ]
     },
     "metadata": {
      "needs_background": "light"
     },
     "output_type": "display_data"
    }
   ],
   "source": [
    "import pandas as pd\n",
    "import matplotlib.pyplot as plt\n",
    "data = pd.read_csv(\"./LRdata.txt\")\n",
    "plt.scatter(data[\"x\"], data[\"y\"], marker = \"*\")"
   ]
  },
  {
   "cell_type": "markdown",
   "id": "b9c13db1-1a57-4212-8bef-7b1af1117f88",
   "metadata": {},
   "source": [
    "# 归一化处理"
   ]
  },
  {
   "cell_type": "code",
   "execution_count": 11,
   "id": "e64738b3-10c9-42b3-979d-065307c9b330",
   "metadata": {},
   "outputs": [
    {
     "data": {
      "text/html": [
       "<div>\n",
       "<style scoped>\n",
       "    .dataframe tbody tr th:only-of-type {\n",
       "        vertical-align: middle;\n",
       "    }\n",
       "\n",
       "    .dataframe tbody tr th {\n",
       "        vertical-align: top;\n",
       "    }\n",
       "\n",
       "    .dataframe thead th {\n",
       "        text-align: right;\n",
       "    }\n",
       "</style>\n",
       "<table border=\"1\" class=\"dataframe\">\n",
       "  <thead>\n",
       "    <tr style=\"text-align: right;\">\n",
       "      <th></th>\n",
       "      <th>x</th>\n",
       "      <th>y</th>\n",
       "    </tr>\n",
       "  </thead>\n",
       "  <tbody>\n",
       "    <tr>\n",
       "      <th>count</th>\n",
       "      <td>1.000000e+02</td>\n",
       "      <td>1.000000e+02</td>\n",
       "    </tr>\n",
       "    <tr>\n",
       "      <th>mean</th>\n",
       "      <td>9.592327e-16</td>\n",
       "      <td>1.043610e-16</td>\n",
       "    </tr>\n",
       "    <tr>\n",
       "      <th>std</th>\n",
       "      <td>1.005038e+00</td>\n",
       "      <td>1.005038e+00</td>\n",
       "    </tr>\n",
       "    <tr>\n",
       "      <th>min</th>\n",
       "      <td>-2.457313e+00</td>\n",
       "      <td>-2.475344e+00</td>\n",
       "    </tr>\n",
       "    <tr>\n",
       "      <th>25%</th>\n",
       "      <td>-7.663995e-01</td>\n",
       "      <td>-7.207656e-01</td>\n",
       "    </tr>\n",
       "    <tr>\n",
       "      <th>50%</th>\n",
       "      <td>6.977331e-02</td>\n",
       "      <td>-3.351549e-02</td>\n",
       "    </tr>\n",
       "    <tr>\n",
       "      <th>75%</th>\n",
       "      <td>8.047713e-01</td>\n",
       "      <td>6.322912e-01</td>\n",
       "    </tr>\n",
       "    <tr>\n",
       "      <th>max</th>\n",
       "      <td>2.205484e+00</td>\n",
       "      <td>2.766638e+00</td>\n",
       "    </tr>\n",
       "  </tbody>\n",
       "</table>\n",
       "</div>"
      ],
      "text/plain": [
       "                  x             y\n",
       "count  1.000000e+02  1.000000e+02\n",
       "mean   9.592327e-16  1.043610e-16\n",
       "std    1.005038e+00  1.005038e+00\n",
       "min   -2.457313e+00 -2.475344e+00\n",
       "25%   -7.663995e-01 -7.207656e-01\n",
       "50%    6.977331e-02 -3.351549e-02\n",
       "75%    8.047713e-01  6.322912e-01\n",
       "max    2.205484e+00  2.766638e+00"
      ]
     },
     "execution_count": 11,
     "metadata": {},
     "output_type": "execute_result"
    }
   ],
   "source": [
    "from sklearn.preprocessing import StandardScaler\n",
    "\n",
    "trans = StandardScaler()\n",
    "_data_simple = trans.fit_transform(data)\n",
    "_data_simple = pd.DataFrame(_data_simple, columns = [\"x\", \"y\"])\n",
    "_data_simple.describe()"
   ]
  },
  {
   "cell_type": "code",
   "execution_count": 21,
   "id": "18be1b84-13f8-4705-a72e-6d8b74851880",
   "metadata": {},
   "outputs": [
    {
     "name": "stdout",
     "output_type": "stream",
     "text": [
      "X_train's shape:  (80, 1)\n",
      "X_test's shape:  (20, 1)\n",
      "y_train's shape:  (80, 1)\n",
      "y_test's shape:  (20, 1)\n"
     ]
    }
   ],
   "source": [
    "# 获取输入和标签\n",
    "data, target = _data_simple[\"x\"], _data_simple[\"y\"]\n",
    "data = np.array(data)\n",
    "data = data.reshape((-1,1))\n",
    "\n",
    "target = np.array(target)\n",
    "target = target.reshape((-1,1))\n",
    "# 打乱数据集\n",
    "X, y = shuffle(data, target, random_state = 13)\n",
    "\n",
    "# 按照8/2划分训练集和测试集\n",
    "offset = int(X.shape[0] * 0.8)\n",
    "X_train, X_test, y_train, y_test = X[:offset], X[offset:], y[:offset], y[offset:]\n",
    "\n",
    "# 打印训练集和测试集维度\n",
    "print(\"X_train's shape: \", X_train.shape)\n",
    "print(\"X_test's shape: \", X_test.shape)\n",
    "print(\"y_train's shape: \", y_train.shape)\n",
    "print(\"y_test's shape: \", y_test.shape)"
   ]
  },
  {
   "cell_type": "code",
   "execution_count": 26,
   "id": "b818f371-845c-4f80-8312-9bb4df0da707",
   "metadata": {},
   "outputs": [
    {
     "name": "stdout",
     "output_type": "stream",
     "text": [
      "epoch 10000 loss 0.364317\n",
      "epoch 20000 loss 0.364317\n",
      "epoch 30000 loss 0.364317\n",
      "epoch 40000 loss 0.364317\n",
      "epoch 50000 loss 0.364317\n",
      "{'w': array([[0.80321166]]), 'b': -0.056084513918907127}\n"
     ]
    }
   ],
   "source": [
    "loss_his, params, grads = linear_train(X_train, y_train, 0.01, 50000)\n",
    "# 打印训练后得到模型参数\n",
    "print(params)"
   ]
  },
  {
   "cell_type": "code",
   "execution_count": 14,
   "id": "c4425d47-6a45-4277-98bd-5ca0b3b8d702",
   "metadata": {},
   "outputs": [
    {
     "name": "stdout",
     "output_type": "stream",
     "text": [
      "0.5329032659312245\n"
     ]
    }
   ],
   "source": [
    "y_pred = predict(X_test, params)\n",
    "print(r2_score(y_test, y_pred))"
   ]
  },
  {
   "cell_type": "code",
   "execution_count": null,
   "id": "a9811f15-e3cb-4927-b8c6-15a129283ac1",
   "metadata": {},
   "outputs": [],
   "source": []
  }
 ],
 "metadata": {
  "kernelspec": {
   "display_name": "Python 3 (ipykernel)",
   "language": "python",
   "name": "python3"
  },
  "language_info": {
   "codemirror_mode": {
    "name": "ipython",
    "version": 3
   },
   "file_extension": ".py",
   "mimetype": "text/x-python",
   "name": "python",
   "nbconvert_exporter": "python",
   "pygments_lexer": "ipython3",
   "version": "3.9.7"
  }
 },
 "nbformat": 4,
 "nbformat_minor": 5
}
