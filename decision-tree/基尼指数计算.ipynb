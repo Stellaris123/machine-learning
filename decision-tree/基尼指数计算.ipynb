{
 "cells": [
  {
   "cell_type": "markdown",
   "id": "8a565121-d8e4-4bf0-8531-33073b6c9f99",
   "metadata": {},
   "source": [
    "# 基尼指数计算函数"
   ]
  },
  {
   "cell_type": "code",
   "execution_count": 8,
   "id": "8a00a486-8b81-4e83-9715-e1d82ec54aa9",
   "metadata": {},
   "outputs": [],
   "source": [
    "import numpy as np\n",
    "def gini(nums):\n",
    "    \"\"\"\n",
    "    输入:\n",
    "        ->nums:包含类别取值的列表\n",
    "    输出:\n",
    "        ->gini:基尼指数\n",
    "    \"\"\"\n",
    "    # 获取列表类别的概率分布\n",
    "    probs = [nums.count(i)/len(nums) for i in set(nums)]\n",
    "    # 计算基尼指数\n",
    "    gini = sum([p*(1-p) for p in probs])\n",
    "    return gini"
   ]
  },
  {
   "cell_type": "markdown",
   "id": "f7ea89e6-c0f4-436a-aa43-5379e2b8813a",
   "metadata": {},
   "source": [
    "# 天气条件下的基尼指数计算"
   ]
  },
  {
   "cell_type": "code",
   "execution_count": 9,
   "id": "d124cfb7-4937-4b43-8b9c-f3ab564d6ede",
   "metadata": {},
   "outputs": [
    {
     "name": "stdout",
     "output_type": "stream",
     "text": [
      "0.3936507936507937\n"
     ]
    }
   ],
   "source": [
    "import pandas as pd\n",
    "df = pd.read_csv(\"./golf_data.csv\")\n",
    "# 其中 subset1,subset2 为根据天气特征晴和非晴划分之后的子集\n",
    "subset1 = df[df[\"outlook\"] == \"sunny\"]\n",
    "subset2 = df[df[\"outlook\"] != \"sunny\"]\n",
    "# 计算基尼指数\n",
    "gini_DA = len(subset1)/len(df)*gini(subset1[\"play\"].tolist()) + \\\n",
    "          len(subset2)/len(df)*gini(subset2[\"play\"].tolist())\n",
    "print(gini_DA)"
   ]
  }
 ],
 "metadata": {
  "kernelspec": {
   "display_name": "Python 3 (ipykernel)",
   "language": "python",
   "name": "python3"
  },
  "language_info": {
   "codemirror_mode": {
    "name": "ipython",
    "version": 3
   },
   "file_extension": ".py",
   "mimetype": "text/x-python",
   "name": "python",
   "nbconvert_exporter": "python",
   "pygments_lexer": "ipython3",
   "version": "3.9.7"
  }
 },
 "nbformat": 4,
 "nbformat_minor": 5
}
