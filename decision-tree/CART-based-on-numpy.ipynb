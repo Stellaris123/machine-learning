{
 "cells": [
  {
   "cell_type": "code",
   "execution_count": 1,
   "id": "1d09baf7-8faf-4b00-bb7c-a940a008573f",
   "metadata": {},
   "outputs": [],
   "source": [
    "import numpy as np\n",
    "from sklearn.model_selection import train_test_split\n",
    "from sklearn.metrics import accuracy_score, mean_squared_error"
   ]
  },
  {
   "cell_type": "markdown",
   "id": "b9d8be02-1590-4b7f-968f-7f5693176e1f",
   "metadata": {},
   "source": [
    "# 定义树结点"
   ]
  },
  {
   "cell_type": "code",
   "execution_count": 2,
   "id": "cda43d27-b2f8-4917-8a5c-f723b70e4182",
   "metadata": {},
   "outputs": [],
   "source": [
    "class TreeNode():\n",
    "    def __init__(self\n",
    "                 , feature_idx = None\n",
    "                 , threshold = None\n",
    "                 , leaf_value = None\n",
    "                 , left_branch = None\n",
    "                 , right_branch = None\n",
    "                ):\n",
    "        # 特征索引\n",
    "        self.feature_idx = feature_idx\n",
    "        # 特征划分阈值\n",
    "        self.threshold = threshold\n",
    "        # 叶子节点取值\n",
    "        self.leaf_value = leaf_value\n",
    "        # 左子树\n",
    "        self.left_branch = left_branch\n",
    "        # 右子树\n",
    "        self.right_branch = right_branch"
   ]
  },
  {
   "cell_type": "markdown",
   "id": "78c0dbc9-e521-48a8-89ce-bc9157a61842",
   "metadata": {},
   "source": [
    "# 划分函数、基尼指数计算函数"
   ]
  },
  {
   "cell_type": "code",
   "execution_count": 3,
   "id": "b465311d-eb86-4536-8f28-e6dd061b0696",
   "metadata": {},
   "outputs": [],
   "source": [
    "# 定义二叉特征划分函数\n",
    "def feature_split(X, feature_idx, threshold):\n",
    "    split_func = None\n",
    "    if isinstance(threshold, int) or isinstance(threshold, float):\n",
    "        split_func = lambda sample: sample[feature_idx] >= threshold\n",
    "    else:\n",
    "        split_func = lambda sample: sample[feature_idx] == threshold\n",
    "\n",
    "    X_left = np.array([sample for sample in X if split_func(sample)])\n",
    "    X_right = np.array([sample for sample in X if not split_func(sample)])\n",
    "\n",
    "    return np.array([X_left, X_right])\n",
    "\n",
    "# 计算基尼指数\n",
    "def calculate_gini(y):\n",
    "    # 将数组转化为列表\n",
    "    y = y.tolist()\n",
    "    probs = [y.count(i)/len(y) for i in np.unique(y)]\n",
    "    gini = sum([p*(1-p) for p in probs])\n",
    "    return gini"
   ]
  },
  {
   "cell_type": "markdown",
   "id": "5415831a-9f44-4488-a678-b7ea603dd045",
   "metadata": {},
   "source": [
    "# 定义二叉决策树"
   ]
  },
  {
   "cell_type": "code",
   "execution_count": 4,
   "id": "3fb79b40-e4af-46bc-b0ee-a94095c88e1a",
   "metadata": {},
   "outputs": [],
   "source": [
    "class BinaryDecisionTree(object):\n",
    "    # 决策树初始化\n",
    "    def __init__(self\n",
    "                 , min_samples_split = 2\n",
    "                 , min_gini_impurity = 999\n",
    "                 , max_depth = float(\"inf\")\n",
    "                 , loss = None\n",
    "                ):\n",
    "        # 根结点\n",
    "        self.root = None  \n",
    "        # 节点最小分裂样本数\n",
    "        self.min_samples_split = min_samples_split\n",
    "        # 节点初始化基尼不纯度\n",
    "        self.mini_gini_impurity = min_gini_impurity\n",
    "        # 树最大深度\n",
    "        self.max_depth = max_depth\n",
    "        # 基尼不纯度计算函数\n",
    "        self.gini_impurity_calculation = None\n",
    "        # 叶子节点值预测函数\n",
    "        self._leaf_value_calculation = None\n",
    "        # 损失函数\n",
    "        self.loss = loss\n",
    "\n",
    "    # 决策树训练\n",
    "    def fit(self, X, y, loss=None):\n",
    "        # 递归构建决策树\n",
    "        self.root = self._build_tree(X, y)\n",
    "        self.loss = None\n",
    "\n",
    "    # 决策树构建函数\n",
    "    def _build_tree(self, X, y, current_depth = 0):\n",
    "        # 初始化最小基尼不纯度\n",
    "        init_gini_impurity = 999\n",
    "        # 初始化最佳特征索引和阈值\n",
    "        best_criteria = None    \n",
    "        # 初始化数据子集\n",
    "        best_sets = None        \n",
    "\n",
    "        # 合并输入和标签\n",
    "        Xy = np.concatenate((X, y), axis=1)\n",
    "        # 获取样本数和特征数\n",
    "        n_samples, n_features = X.shape\n",
    "        # 设定决策树构建条件\n",
    "        # 训练样本数量大于节点最小分裂样本数且当前树深度小于最大深度\n",
    "        if n_samples >= self.min_samples_split and current_depth <= self.max_depth:\n",
    "            # 遍历计算每个特征的基尼不纯度\n",
    "            for feature_idx in range(n_features):\n",
    "                # 获取第i特征的所有取值\n",
    "                feature_values = np.expand_dims(X[:, feature_idx], axis=1)\n",
    "                # 获取第i个特征的唯一取值\n",
    "                unique_values = np.unique(feature_values)\n",
    "\n",
    "                # 遍历取值并寻找最佳特征分裂阈值\n",
    "                for threshold in unique_values:\n",
    "                    # 特征节点二叉分裂\n",
    "                    Xy1, Xy2 = feature_split(Xy, feature_idx, threshold)\n",
    "                    # 如果分裂后的子集大小都不为0\n",
    "                    if len(Xy1) > 0 and len(Xy2) > 0:\n",
    "                        # 获取两个子集的标签值\n",
    "                        y1 = Xy1[:, n_features:]\n",
    "                        y2 = Xy2[:, n_features:]\n",
    "\n",
    "                        # 计算基尼不纯度\n",
    "                        impurity = self.impurity_calculation(y, y1, y2)\n",
    "\n",
    "                        # 获取最小基尼不纯度\n",
    "                        # 最佳特征索引和分裂阈值\n",
    "                        if impurity < init_gini_impurity:\n",
    "                            init_gini_impurity = impurity\n",
    "                            best_criteria = {\"feature_idx\": feature_idx, \"threshold\": threshold}\n",
    "                            best_sets = {\n",
    "                                \"leftX\": Xy1[:, :n_features],   \n",
    "                                \"lefty\": Xy1[:, n_features:],   \n",
    "                                \"rightX\": Xy2[:, :n_features],  \n",
    "                                \"righty\": Xy2[:, n_features:]   \n",
    "                                }\n",
    "        \n",
    "        # 如果计算的最小不纯度小于设定的最小不纯度\n",
    "        if init_gini_impurity < self.mini_gini_impurity:\n",
    "            # 分别构建左右子树\n",
    "            left_branch = self._build_tree(best_sets[\"leftX\"], best_sets[\"lefty\"], current_depth + 1)\n",
    "            right_branch = self._build_tree(best_sets[\"rightX\"], best_sets[\"righty\"], current_depth + 1)\n",
    "            return TreeNode(feature_idx = best_criteria[\"feature_idx\"]\n",
    "                            , threshold = best_criteria[\"threshold\"]\n",
    "                            , left_branch = left_branch\n",
    "                            , right_branch = right_branch\n",
    "                           )\n",
    "        # 计算叶子计算取值\n",
    "        leaf_value = self._leaf_value_calculation(y)\n",
    "\n",
    "        return TreeNode(leaf_value=leaf_value)\n",
    "\n",
    "    # 定义二叉树值预测函数\n",
    "    def predict_value(self, x, tree=None):\n",
    "        if tree is None:\n",
    "            tree = self.root\n",
    "\n",
    "        # 如果叶子节点已有值，则直接返回已有值\n",
    "        if tree.leaf_value is not None:\n",
    "            return tree.leaf_value\n",
    "\n",
    "        # 选择特征并获取特征值\n",
    "        feature_value = x[tree.feature_idx]\n",
    "\n",
    "        # 判断落入左子树还是右子树\n",
    "        branch = tree.right_branch\n",
    "        if isinstance(feature_value, int) or isinstance(feature_value, float):\n",
    "            if feature_value >= tree.threshold:\n",
    "                branch = tree.left_branch\n",
    "        elif feature_value == tree.threshold:\n",
    "            branch = tree.left_branch\n",
    "\n",
    "        # 测试子集\n",
    "        return self.predict_value(x, branch)\n",
    "\n",
    "    # 数据集预测函数\n",
    "    def predict(self, X):\n",
    "        y_pred = [self.predict_value(sample) for sample in X]\n",
    "        return y_pred"
   ]
  },
  {
   "cell_type": "markdown",
   "id": "e8722194-0a9b-4097-9872-6eee5006f12f",
   "metadata": {},
   "source": [
    "# CART分类树"
   ]
  },
  {
   "cell_type": "code",
   "execution_count": 5,
   "id": "0312fea3-80f7-4161-ab7a-3d5fd7a824b8",
   "metadata": {},
   "outputs": [],
   "source": [
    "class ClassificationTree(BinaryDecisionTree):\n",
    "    # 定义基尼不纯度计算过程\n",
    "    def _calculate_gini_impurity(self, y, y1, y2):\n",
    "        p = len(y1) / len(y)\n",
    "        gini = calculate_gini(y)\n",
    "        gini_impurity = p * calculate_gini(y1) + (1-p) * calculate_gini(y2)\n",
    "        return gini_impurity\n",
    "    \n",
    "    # 多数投票\n",
    "    def _majority_vote(self, y):\n",
    "        most_common = None\n",
    "        max_count = 0\n",
    "        for label in np.unique(y):\n",
    "            # 统计多数\n",
    "            count = len(y[y == label])\n",
    "            if count > max_count:\n",
    "                most_common = label\n",
    "                max_count = count\n",
    "        return most_common\n",
    "    \n",
    "    # 分类树拟合\n",
    "    def fit(self, X, y):\n",
    "        self.impurity_calculation = self._calculate_gini_impurity\n",
    "        self._leaf_value_calculation = self._majority_vote\n",
    "        super(ClassificationTree, self).fit(X, y)"
   ]
  },
  {
   "cell_type": "markdown",
   "id": "018f232e-ec90-4cd6-bd62-9814cd3a519b",
   "metadata": {},
   "source": [
    "# 分类树测试"
   ]
  },
  {
   "cell_type": "code",
   "execution_count": 6,
   "id": "01b9d2c6-41f2-43c0-b10f-6724cdcaa35a",
   "metadata": {},
   "outputs": [
    {
     "name": "stderr",
     "output_type": "stream",
     "text": [
      "C:\\Users\\李俊霖\\AppData\\Local\\Temp/ipykernel_31264/2219306650.py:12: VisibleDeprecationWarning: Creating an ndarray from ragged nested sequences (which is a list-or-tuple of lists-or-tuples-or ndarrays with different lengths or shapes) is deprecated. If you meant to do this, you must specify 'dtype=object' when creating the ndarray.\n",
      "  return np.array([X_left, X_right])\n"
     ]
    },
    {
     "name": "stdout",
     "output_type": "stream",
     "text": [
      "[[2 1 0 1 2 2 0 0 0 0 2 1 2 0 2 0 0 2 2 1 2 2 1 2 2 1 1 1 1 1 0 2 0 1 1 1\n",
      "  0 1 2 0 0 2 2 0 0]]\n",
      "[2.0, 1.0, 0.0, 2.0, 2.0, 2.0, 0.0, 0.0, 0.0, 0.0, 2.0, 1.0, 1.0, 0.0, 2.0, 0.0, 0.0, 2.0, 2.0, 1.0, 1.0, 2.0, 1.0, 2.0, 2.0, 1.0, 1.0, 1.0, 1.0, 1.0, 0.0, 2.0, 0.0, 1.0, 1.0, 1.0, 0.0, 2.0, 2.0, 0.0, 0.0, 2.0, 2.0, 0.0, 0.0]\n"
     ]
    }
   ],
   "source": [
    "from sklearn import datasets\n",
    "from sklearn.model_selection import train_test_split\n",
    "from sklearn.metrics import accuracy_score\n",
    "data = datasets.load_iris()\n",
    "X, y = data.data, data.target\n",
    "y = y.reshape((-1, 1))\n",
    "X_train, X_test, y_train, y_test = train_test_split(X, y, test_size = 0.3)\n",
    "# 创建分类树模型实例\n",
    "clf = ClassificationTree()\n",
    "# 分类树训练\n",
    "clf.fit(X_train, y_train)\n",
    "# 分类树预测\n",
    "y_pred = clf.predict(X_test)\n",
    "print(y_test.T)\n",
    "print(y_pred)"
   ]
  },
  {
   "cell_type": "markdown",
   "id": "d346c3dd-d105-45a0-94e8-066bd5183280",
   "metadata": {},
   "source": [
    "# CART回归树"
   ]
  },
  {
   "cell_type": "code",
   "execution_count": 7,
   "id": "c404ef1d-5361-4d53-9999-81437a0fcdae",
   "metadata": {},
   "outputs": [],
   "source": [
    "class RegressionTree(BinaryDecisionTree):\n",
    "    def _calculate_variance_reduction(self, y, y1, y2):\n",
    "        var_tot = np.var(y, axis=0)\n",
    "        var_y1 = np.var(y1, axis=0)\n",
    "        var_y2 = np.var(y2, axis=0)\n",
    "        frac_1 = len(y1) / len(y)\n",
    "        frac_2 = len(y2) / len(y)\n",
    "        # 计算方差减少量\n",
    "        variance_reduction = var_tot - (frac_1 * var_y1 + frac_2 * var_y2)\n",
    "        \n",
    "        return sum(variance_reduction)\n",
    "\n",
    "    # 节点值取平均\n",
    "    def _mean_of_y(self, y):\n",
    "        value = np.mean(y, axis=0)\n",
    "        return value if len(value) > 1 else value[0]\n",
    "\n",
    "    def fit(self, X, y):\n",
    "        self.impurity_calculation = self._calculate_variance_reduction\n",
    "        self._leaf_value_calculation = self._mean_of_y\n",
    "        super(RegressionTree, self).fit(X, y)"
   ]
  },
  {
   "cell_type": "markdown",
   "id": "30fec6df-695a-4d2d-9e25-c3fecc5a2bdf",
   "metadata": {},
   "source": [
    "# 回归树测试"
   ]
  },
  {
   "cell_type": "code",
   "execution_count": 10,
   "id": "73c488aa-f6df-4efd-a651-5dc4d691e49e",
   "metadata": {},
   "outputs": [
    {
     "name": "stderr",
     "output_type": "stream",
     "text": [
      "C:\\Users\\李俊霖\\AppData\\Local\\Temp/ipykernel_31264/2219306650.py:12: VisibleDeprecationWarning: Creating an ndarray from ragged nested sequences (which is a list-or-tuple of lists-or-tuples-or ndarrays with different lengths or shapes) is deprecated. If you meant to do this, you must specify 'dtype=object' when creating the ndarray.\n",
      "  return np.array([X_left, X_right])\n"
     ]
    },
    {
     "name": "stdout",
     "output_type": "stream",
     "text": [
      "MES of CRAT regression tree based on Numpy:  128.27421052631576\n"
     ]
    }
   ],
   "source": [
    "# 波士顿房价\n",
    "from sklearn.datasets import load_boston\n",
    "from sklearn.model_selection import train_test_split\n",
    "from sklearn.metrics import mean_squared_error\n",
    "# 获取输入和标签\n",
    "X, y = load_boston(return_X_y = True)\n",
    "y = y.reshape((-1, 1))\n",
    "# 划分训练集和测试集\n",
    "X_train, X_test, y_train, y_test = train_test_split(X, y, test_size = 0.3)\n",
    "# 定义回归模型\n",
    "reg = RegressionTree()\n",
    "# 模型训练\n",
    "reg.fit(X_train, y_train)\n",
    "# 模型预测\n",
    "y_pred = reg.predict(X_test)\n",
    "# 均方误差\n",
    "mse = mean_squared_error(y_test, y_pred)\n",
    "print(\"MES of CRAT regression tree based on Numpy: \", mse)"
   ]
  }
 ],
 "metadata": {
  "kernelspec": {
   "display_name": "Python 3 (ipykernel)",
   "language": "python",
   "name": "python3"
  },
  "language_info": {
   "codemirror_mode": {
    "name": "ipython",
    "version": 3
   },
   "file_extension": ".py",
   "mimetype": "text/x-python",
   "name": "python",
   "nbconvert_exporter": "python",
   "pygments_lexer": "ipython3",
   "version": "3.9.7"
  }
 },
 "nbformat": 4,
 "nbformat_minor": 5
}
