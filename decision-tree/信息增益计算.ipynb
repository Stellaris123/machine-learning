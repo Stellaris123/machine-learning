{
 "cells": [
  {
   "cell_type": "markdown",
   "id": "147db359-2b46-4a92-a389-9791f663e891",
   "metadata": {},
   "source": [
    "# 定义熵计算"
   ]
  },
  {
   "cell_type": "code",
   "execution_count": 1,
   "id": "d821ba51-841e-4e54-a881-5120822e5ce8",
   "metadata": {},
   "outputs": [],
   "source": [
    "import numpy as np\n",
    "from math import log\n",
    "def entropy(ele):\n",
    "    \"\"\"\n",
    "    输入:\n",
    "        ->ele:包含类别取值的列表\n",
    "    输出:\n",
    "        ->entropy:信息熵值\n",
    "    \"\"\"\n",
    "    # 计算列表中取值的概率分布\n",
    "    probs = [ele.count(i)/len(ele) for i in set(ele)]\n",
    "    # 计算信息熵\n",
    "    entropy = -sum(prob*log(prob,2) for prob in probs)\n",
    "    return entropy"
   ]
  },
  {
   "cell_type": "markdown",
   "id": "bf25b512-60ec-41e1-a0b1-547e41495d2d",
   "metadata": {},
   "source": [
    "# 信息增益计算"
   ]
  },
  {
   "cell_type": "code",
   "execution_count": 2,
   "id": "1c7ce550-0281-44f4-a3d9-b09637a1318b",
   "metadata": {},
   "outputs": [
    {
     "name": "stdout",
     "output_type": "stream",
     "text": [
      "0.2467498197744391\n"
     ]
    }
   ],
   "source": [
    "import pandas as pd\n",
    "# 以数据集框架读取高尔夫数据集\n",
    "df = pd.read_csv(\"./golf_data.csv\")\n",
    "# 计算数据集的经验熵\n",
    "# \"play\"为目标变量，即是否打高尔夫\n",
    "entropy_D = entropy(df[\"play\"].tolist())\n",
    "# 计算天气特征的经验条件熵\n",
    "# 其中 subset1,subset2,subset3 为根据天气特征三个取值划分之后的子集\n",
    "subset1 = df[df[\"outlook\"]==\"sunny\"]\n",
    "subset2 = df[df[\"outlook\"]==\"overcast\"]\n",
    "subset3 = df[df[\"outlook\"]==\"rainy\"]\n",
    "entropy_DA = len(subset1)/len(df)*entropy(subset1[\"play\"].tolist()) + \\\n",
    "             len(subset2)/len(df)*entropy(subset2[\"play\"].tolist()) + \\\n",
    "             len(subset3)/len(df)*entropy(subset3[\"play\"].tolist())\n",
    "# 计算天气特征的信息增益\n",
    "info_gain = entropy_D - entropy_DA\n",
    "print(info_gain)"
   ]
  },
  {
   "cell_type": "code",
   "execution_count": null,
   "id": "7ec3eed7-1533-4c1c-be87-44df2af2aa11",
   "metadata": {},
   "outputs": [],
   "source": []
  }
 ],
 "metadata": {
  "kernelspec": {
   "display_name": "Python 3 (ipykernel)",
   "language": "python",
   "name": "python3"
  },
  "language_info": {
   "codemirror_mode": {
    "name": "ipython",
    "version": 3
   },
   "file_extension": ".py",
   "mimetype": "text/x-python",
   "name": "python",
   "nbconvert_exporter": "python",
   "pygments_lexer": "ipython3",
   "version": "3.9.7"
  }
 },
 "nbformat": 4,
 "nbformat_minor": 5
}
