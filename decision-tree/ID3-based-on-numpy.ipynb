{
 "cells": [
  {
   "cell_type": "markdown",
   "id": "68c7e52a-c3b5-42ac-b2f8-16b97e4d15cc",
   "metadata": {},
   "source": [
    "# 信息熵计算函数"
   ]
  },
  {
   "cell_type": "code",
   "execution_count": 1,
   "id": "8688a274-ed86-40f5-8bfe-c06293d1e168",
   "metadata": {},
   "outputs": [],
   "source": [
    "# 导入 numpy 库，对数计算\n",
    "import numpy as np\n",
    "from math import log\n",
    "def entropy(ele):\n",
    "    \"\"\"\n",
    "    输入:\n",
    "        ele->包含类别取值的列表\n",
    "    输出:\n",
    "        entropy->信息熵值\n",
    "    \"\"\"\n",
    "    # 计算列表中取值的概率分布\n",
    "    probs = [ele.count(i)/len(ele) for i in set(ele)]\n",
    "    # 计算信息熵\n",
    "    entropy = -sum(prob * log(prob, 2) for prob in probs)\n",
    "    return entropy"
   ]
  },
  {
   "cell_type": "markdown",
   "id": "aefd47a7-3deb-40d6-935e-7d9413966cff",
   "metadata": {},
   "source": [
    "# 数据集划分函数"
   ]
  },
  {
   "cell_type": "code",
   "execution_count": 2,
   "id": "631b80e2-61db-44bb-bec1-e1c3b88ca4a8",
   "metadata": {},
   "outputs": [],
   "source": [
    "def df_split(df, col):\n",
    "    \"\"\"\n",
    "    输入:\n",
    "        df->待划分的训练数据\n",
    "        col->划分数据的依据特征\n",
    "    输出:\n",
    "        res_dict->根据特征取值划分后的不同数据集字典\n",
    "    \"\"\"\n",
    "    # 获取依据特征的不同取值\n",
    "    unique_col_val = df[col].unique()\n",
    "    # 创建划分结果的数据框字典\n",
    "    res_dict = {elem:pd.DataFrame for elem in unique_col_val}\n",
    "    # 根据特征取值进行划分\n",
    "    for key in res_dict.keys():\n",
    "        res_dict[key] = df[:][df[col] == key]\n",
    "    return res_dict"
   ]
  },
  {
   "cell_type": "markdown",
   "id": "f009f5fc-ab90-4bf5-ad3d-b64fdeb923a8",
   "metadata": {},
   "source": [
    "# 选择最优特征"
   ]
  },
  {
   "cell_type": "code",
   "execution_count": 3,
   "id": "1ca12f36-aea5-48bc-8a10-fa04e46e0043",
   "metadata": {},
   "outputs": [],
   "source": [
    "# 根据训练集和标签选择信息增益最大的特征作为最优特征\n",
    "def choose_best_feature(df, label):\n",
    "    \"\"\"\n",
    "    输入:\n",
    "        df->待划分的训练数据\n",
    "        label->训练标签\n",
    "    输出:\n",
    "        mas_value->最大信息增益值\n",
    "        best_feature->最优特征\n",
    "        max_splited->根据最优特征划分后的数据字典\n",
    "    \"\"\"\n",
    "    # 计算训练标签的信息熵\n",
    "    entropy_D = entropy(df[label].tolist())\n",
    "    # 特征集\n",
    "    cols = [col for col in df.columns if col not in [label]]\n",
    "    # 初始化最大信息增益值、最优特征和划分后的数据集\n",
    "    max_value, best_feature = -999, None\n",
    "    max_splited = None\n",
    "    # 遍历特征并根据特征划分后的数据集\n",
    "    for col in cols:\n",
    "        # 根据当前特征取值划分后的数据集\n",
    "        splited_set = df_split(df, col)\n",
    "        # 初始化经验条件熵\n",
    "        entropy_DA = 0\n",
    "        # 对划分后的数据集遍历计算\n",
    "        for subset_col, subset in splited_set.items():\n",
    "            # 计算划分后的数据子集的标签信息熵\n",
    "            entropy_Di = entropy(subset[label].tolist())\n",
    "            # 计算当前特征的经验条件熵\n",
    "            entropy_DA += len(subset)/len(df) * entropy_Di\n",
    "        # 计算当前特征的信息增益\n",
    "        info_gain = entropy_D - entropy_DA\n",
    "        # 获取最大信息增益，并保存对应的特征和划分结果\n",
    "        if info_gain > max_value:\n",
    "            max_value, best_feature = info_gain, col\n",
    "            max_splited = splited_set\n",
    "    return max_value, best_feature, max_splited"
   ]
  },
  {
   "cell_type": "markdown",
   "id": "879a9a03-e6b0-4c2c-946a-3ef70ca5735e",
   "metadata": {},
   "source": [
    "# 构建 ID3 决策树"
   ]
  },
  {
   "cell_type": "code",
   "execution_count": 4,
   "id": "00252aed-e8f4-4a82-a061-6d89b7cd77ad",
   "metadata": {},
   "outputs": [],
   "source": [
    "class ID3tree:\n",
    "    # 定义决策树结点类\n",
    "    class TreeNode:\n",
    "        # 定义树节点\n",
    "        def __init__(self, name):\n",
    "            self.name = name\n",
    "            self.connections = {}\n",
    "        # 定义树连接\n",
    "        def connect(self, label, node):\n",
    "            self.connections[label] = node\n",
    "    # 定义全局变量，包括数据集、特征集、标签和根节点\n",
    "    def __init__(self, df, label):\n",
    "        self.columns = df.columns\n",
    "        self.df = df\n",
    "        self.label = label\n",
    "        self.root = self.TreeNode(\"Root\")\n",
    "    \n",
    "    # 构建树的调用\n",
    "    def construct_tree(self):\n",
    "        self.construct(self.root, \"\", self.df, self.columns)\n",
    "        \n",
    "    # 决策树构建方法\n",
    "    def construct(self, parent_node, parent_label, sub_df, columns):\n",
    "        # 选择最优特征\n",
    "        max_value, best_feature, max_splited = choose_best_feature(sub_df[columns], self.label)\n",
    "        # 如果选不到最优特征的，则构建单结点树\n",
    "        if not best_feature:\n",
    "            node = self.TreeNode(sub_df[self.label].iloc[0])\n",
    "            parent_node.connect(parent_label, node)\n",
    "            return \n",
    "        # 根据最优特征以及子结点构建树\n",
    "        node = self.TreeNode(best_feature)\n",
    "        parent_node.connect(parent_label, node)\n",
    "        # 以 A-Ag 为新的特征集\n",
    "        new_columns = [col for col in columns if col != best_feature]\n",
    "        # 递归地构建决策树\n",
    "        for splited_value, splited_data in max_splited.items():\n",
    "            self.construct(node, splited_value, splited_data, new_columns)\n",
    "    # 打印决策树\n",
    "    def print_tree(self, node, tabs):\n",
    "        print(tabs + node.name)\n",
    "        for connection, child_node in node.connections.items():\n",
    "            print(str(tabs) + \"\\t\" + \"(\" + str(connection) + \")\")\n",
    "            self.print_tree(child_node, tabs + \"\\t\\t\")"
   ]
  },
  {
   "cell_type": "markdown",
   "id": "069c9fd4-5a86-4dc2-ae54-817f91e32e58",
   "metadata": {},
   "source": [
    "# 基于高尔夫数据集的 ID3 决策树"
   ]
  },
  {
   "cell_type": "code",
   "execution_count": 5,
   "id": "bc72e53f-8a49-4c08-979d-08fddab84590",
   "metadata": {},
   "outputs": [
    {
     "ename": "NameError",
     "evalue": "name 'train_test_split' is not defined",
     "output_type": "error",
     "traceback": [
      "\u001b[1;31m---------------------------------------------------------------------------\u001b[0m",
      "\u001b[1;31mNameError\u001b[0m                                 Traceback (most recent call last)",
      "\u001b[1;32m~\\AppData\\Local\\Temp/ipykernel_5224/845076422.py\u001b[0m in \u001b[0;36m<module>\u001b[1;34m\u001b[0m\n\u001b[0;32m      5\u001b[0m \u001b[0mX\u001b[0m \u001b[1;33m=\u001b[0m \u001b[0mnp\u001b[0m\u001b[1;33m.\u001b[0m\u001b[0marray\u001b[0m\u001b[1;33m(\u001b[0m\u001b[0mdf\u001b[0m\u001b[1;33m[\u001b[0m\u001b[1;33m[\u001b[0m\u001b[1;34m\"humility\"\u001b[0m\u001b[1;33m,\u001b[0m\u001b[1;34m\"outlook\"\u001b[0m\u001b[1;33m,\u001b[0m\u001b[1;34m\"temp\"\u001b[0m\u001b[1;33m,\u001b[0m\u001b[1;34m\"windy\"\u001b[0m\u001b[1;33m]\u001b[0m\u001b[1;33m]\u001b[0m\u001b[1;33m)\u001b[0m\u001b[1;33m\u001b[0m\u001b[1;33m\u001b[0m\u001b[0m\n\u001b[0;32m      6\u001b[0m \u001b[0my\u001b[0m \u001b[1;33m=\u001b[0m \u001b[0mdf\u001b[0m\u001b[1;33m[\u001b[0m\u001b[1;34m\"play\"\u001b[0m\u001b[1;33m]\u001b[0m\u001b[1;33m\u001b[0m\u001b[1;33m\u001b[0m\u001b[0m\n\u001b[1;32m----> 7\u001b[1;33m \u001b[0mX_train\u001b[0m\u001b[1;33m,\u001b[0m \u001b[0mX_test\u001b[0m\u001b[1;33m,\u001b[0m \u001b[0my_train\u001b[0m\u001b[1;33m,\u001b[0m \u001b[0my_test\u001b[0m \u001b[1;33m=\u001b[0m \u001b[0mtrain_test_split\u001b[0m\u001b[1;33m(\u001b[0m\u001b[0mX\u001b[0m\u001b[1;33m,\u001b[0m \u001b[0my\u001b[0m\u001b[1;33m,\u001b[0m \u001b[0mtest_size\u001b[0m\u001b[1;33m=\u001b[0m\u001b[1;36m0.3\u001b[0m\u001b[1;33m,\u001b[0m \u001b[0mrandom_state\u001b[0m\u001b[1;33m=\u001b[0m\u001b[1;36m1\u001b[0m\u001b[1;33m)\u001b[0m\u001b[1;33m\u001b[0m\u001b[1;33m\u001b[0m\u001b[0m\n\u001b[0m\u001b[0;32m      8\u001b[0m \u001b[1;33m\u001b[0m\u001b[0m\n\u001b[0;32m      9\u001b[0m \u001b[1;31m# 创建 ID3 实例模型\u001b[0m\u001b[1;33m\u001b[0m\u001b[1;33m\u001b[0m\u001b[0m\n",
      "\u001b[1;31mNameError\u001b[0m: name 'train_test_split' is not defined"
     ]
    }
   ],
   "source": [
    "import pandas as pd\n",
    "# 载入数据\n",
    "df = pd.read_csv(\"./golf_data.csv\")\n",
    "\n",
    "X = np.array(df[[\"humility\",\"outlook\",\"temp\",\"windy\"]])\n",
    "y = df[\"play\"]\n",
    "X_train, X_test, y_train, y_test = train_test_split(X, y, test_size=0.3, random_state=1)\n",
    "\n",
    "# 创建 ID3 实例模型\n",
    "id3_tree = ID3tree(df, \"play\")\n",
    "\n",
    "# 构建 ID3 决策树\n",
    "id3_tree.construct_tree()\n",
    "\n",
    "# 打印决策树\n",
    "id3_tree.print_tree(id3_tree.root, \"\")"
   ]
  }
 ],
 "metadata": {
  "kernelspec": {
   "display_name": "Python 3 (ipykernel)",
   "language": "python",
   "name": "python3"
  },
  "language_info": {
   "codemirror_mode": {
    "name": "ipython",
    "version": 3
   },
   "file_extension": ".py",
   "mimetype": "text/x-python",
   "name": "python",
   "nbconvert_exporter": "python",
   "pygments_lexer": "ipython3",
   "version": "3.9.7"
  }
 },
 "nbformat": 4,
 "nbformat_minor": 5
}
