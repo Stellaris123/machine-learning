{
 "cells": [
  {
   "cell_type": "markdown",
   "id": "68c7e52a-c3b5-42ac-b2f8-16b97e4d15cc",
   "metadata": {},
   "source": [
    "# 信息熵计算函数"
   ]
  },
  {
   "cell_type": "code",
   "execution_count": 1,
   "id": "8688a274-ed86-40f5-8bfe-c06293d1e168",
   "metadata": {},
   "outputs": [],
   "source": [
    "# 导入 numpy 库，对数计算\n",
    "import numpy as np\n",
    "from math import log\n",
    "def entropy(ele):\n",
    "    \"\"\"\n",
    "    输入:\n",
    "        ele->包含类别取值的列表\n",
    "    输出:\n",
    "        entropy->信息熵值\n",
    "    \"\"\"\n",
    "    # 计算列表中取值的概率分布\n",
    "    probs = [ele.count(i)/len(ele) for i in set(ele)]\n",
    "    # 计算信息熵\n",
    "    entropy = -sum(prob * log(prob, 2) for prob in probs)\n",
    "    return entropy"
   ]
  },
  {
   "cell_type": "markdown",
   "id": "aefd47a7-3deb-40d6-935e-7d9413966cff",
   "metadata": {},
   "source": [
    "# 数据集划分函数"
   ]
  },
  {
   "cell_type": "code",
   "execution_count": 2,
   "id": "631b80e2-61db-44bb-bec1-e1c3b88ca4a8",
   "metadata": {},
   "outputs": [],
   "source": [
    "def df_split(df, col):\n",
    "    \"\"\"\n",
    "    输入:\n",
    "        df->待划分的训练数据\n",
    "        col->划分数据的依据特征\n",
    "    输出:\n",
    "        res_dict->根据特征取值划分后的不同数据集字典\n",
    "    \"\"\"\n",
    "    # 获取依据特征的不同取值\n",
    "    unique_col_val = df[col].unique()\n",
    "    # 创建划分结果的数据框字典\n",
    "    res_dict = {elem:pd.DataFrame for elem in unique_col_val}\n",
    "    # 根据特征取值进行划分\n",
    "    for key in res_dict.keys():\n",
    "        res_dict[key] = df[:][df[col] == key]\n",
    "    return res_dict"
   ]
  },
  {
   "cell_type": "markdown",
   "id": "f009f5fc-ab90-4bf5-ad3d-b64fdeb923a8",
   "metadata": {
    "tags": []
   },
   "source": [
    "# 选择最优特征"
   ]
  },
  {
   "cell_type": "code",
   "execution_count": 3,
   "id": "1ca12f36-aea5-48bc-8a10-fa04e46e0043",
   "metadata": {},
   "outputs": [],
   "source": [
    "# 根据训练集和标签选择信息增益最大的特征作为最优特征\n",
    "def choose_best_feature(df, label):\n",
    "    \"\"\"\n",
    "    输入:\n",
    "        df->待划分的训练数据\n",
    "        label->训练标签\n",
    "    输出:\n",
    "        mas_value->最大信息增益值\n",
    "        best_feature->最优特征\n",
    "        max_splited->根据最优特征划分后的数据字典\n",
    "    \"\"\"\n",
    "    # 计算训练标签的信息熵\n",
    "    entropy_D = entropy(df[label].tolist())\n",
    "    # 特征集\n",
    "    cols = [col for col in df.columns if col not in [label]]\n",
    "    # 初始化最大信息增益值、最优特征和划分后的数据集\n",
    "    max_value, best_feature = -999, None\n",
    "    max_splited = None\n",
    "    # 遍历特征并根据特征划分后的数据集\n",
    "    for col in cols:\n",
    "        # 根据当前特征取值划分后的数据集\n",
    "        splited_set = df_split(df, col)\n",
    "        # 初始化经验条件熵\n",
    "        entropy_DA = 0\n",
    "        # 对划分后的数据集遍历计算\n",
    "        for subset_col, subset in splited_set.items():\n",
    "            # 计算划分后的数据子集的标签信息熵\n",
    "            entropy_Di = entropy(subset[label].tolist())\n",
    "            # 计算当前特征的经验条件熵\n",
    "            entropy_DA += len(subset)/len(df) * entropy_Di\n",
    "        # 计算当前特征的信息增益\n",
    "        info_gain = entropy_D - entropy_DA\n",
    "        \n",
    "        # 信息增益率\n",
    "        \n",
    "        entropy_A = entropy(df[label].tolist())\n",
    "        if(entropy_A != 0):\n",
    "            info_gain_rate = info_gain/entropy_A\n",
    "        else :\n",
    "            info_gain_rate = 0;\n",
    "        \n",
    "        # 获取最大信息增益比，并保存对应的特征和划分结果\n",
    "        if info_gain_rate > max_value:\n",
    "            max_value, best_feature = info_gain_rate, col\n",
    "            max_splited = splited_set\n",
    "    return max_value, best_feature, max_splited"
   ]
  },
  {
   "cell_type": "markdown",
   "id": "879a9a03-e6b0-4c2c-946a-3ef70ca5735e",
   "metadata": {},
   "source": [
    "# 构建 C4.5 决策树"
   ]
  },
  {
   "cell_type": "code",
   "execution_count": 4,
   "id": "00252aed-e8f4-4a82-a061-6d89b7cd77ad",
   "metadata": {},
   "outputs": [],
   "source": [
    "class ID3tree:\n",
    "    # 定义决策树结点类\n",
    "    class TreeNode:\n",
    "        # 定义树节点\n",
    "        def __init__(self, name):\n",
    "            self.name = name\n",
    "            self.connections = {}\n",
    "        # 定义树连接\n",
    "        def connect(self, label, node):\n",
    "            self.connections[label] = node\n",
    "    # 定义全局变量，包括数据集、特征集、标签和根节点\n",
    "    def __init__(self, df, label):\n",
    "        self.columns = df.columns\n",
    "        self.df = df\n",
    "        self.label = label\n",
    "        self.root = self.TreeNode(\"Root\")\n",
    "    \n",
    "    # 构建树的调用\n",
    "    def construct_tree(self):\n",
    "        self.construct(self.root, \"\", self.df, self.columns)\n",
    "        \n",
    "    # 决策树构建方法\n",
    "    def construct(self, parent_node, parent_label, sub_df, columns):\n",
    "        # 选择最优特征\n",
    "        max_value, best_feature, max_splited = choose_best_feature(sub_df[columns], self.label)\n",
    "        # 如果选不到最优特征的，则构建单结点树\n",
    "        if not best_feature:\n",
    "            node = self.TreeNode(sub_df[self.label].iloc[0])\n",
    "            parent_node.connect(parent_label, node)\n",
    "            return \n",
    "        # 根据最优特征以及子结点构建树\n",
    "        node = self.TreeNode(best_feature)\n",
    "        parent_node.connect(parent_label, node)\n",
    "        # 以 A-Ag 为新的特征集\n",
    "        new_columns = [col for col in columns if col != best_feature]\n",
    "        # 递归地构建决策树\n",
    "        for splited_value, splited_data in max_splited.items():\n",
    "            self.construct(node, splited_value, splited_data, new_columns)\n",
    "    # 打印决策树\n",
    "    def print_tree(self, node, tabs):\n",
    "        print(tabs + node.name)\n",
    "        for connection, child_node in node.connections.items():\n",
    "            print(str(tabs) + \"\\t\" + \"(\" + str(connection) + \")\")\n",
    "            self.print_tree(child_node, tabs + \"\\t\\t\")\n",
    "    # 预测\n",
    "    def find(self, node, test):\n",
    "        if node.name == \"yes\":\n",
    "            return \"yes\"\n",
    "        elif node.name == \"no\":\n",
    "            return \"no\"\n",
    "        for connection, child_node in node.connections.items():\n",
    "            if connection == \"\" or connection == test[node.name]:\n",
    "                return self.find(child_node, test)\n",
    "    def predict(self, X_test):\n",
    "        pred = []\n",
    "        for i in range(0,len(X_test)):\n",
    "            test = X_test.loc[X_test.index[i]]\n",
    "            pred.append(self.find(self.root, test))\n",
    "        return pred\n",
    "    # accuracy\n",
    "    def accuracy(self, y_test, pred):\n",
    "        tp, tn = 0, 0\n",
    "        for i in range(0, len(y_test)):\n",
    "            if y_test[i] == \"yes\" and pred[i] == \"yes\":\n",
    "                tp += 1\n",
    "            if y_test[i] == \"no\" and pred[i] == \"no\":\n",
    "                tn += 1\n",
    "        return (tp + tn)/len(y_test)\n",
    "    # precision\n",
    "    def precision(self, y_test, pred):\n",
    "        tp, fp = 0, 0\n",
    "        for i in range(0, len(y_test)):\n",
    "            if y_test[i] == \"yes\" and pred[i] == \"yes\":\n",
    "                tp += 1\n",
    "            if y_test[i] == \"no\" and pred[i] == \"yes\":\n",
    "                tn += 1\n",
    "        return tp/(tp + fp)\n",
    "    # recall\n",
    "    def recall(self, y_test, pred):\n",
    "        tp, fn = 0, 0\n",
    "        for i in range(0, len(y_test)):\n",
    "            if y_test[i] == \"yes\" and pred[i] == \"yes\":\n",
    "                tp += 1\n",
    "            if y_test[i] == \"yes\" and pred[i] == \"no\":\n",
    "                tn += 1\n",
    "        return tp/(tp + fn)"
   ]
  },
  {
   "cell_type": "markdown",
   "id": "069c9fd4-5a86-4dc2-ae54-817f91e32e58",
   "metadata": {},
   "source": [
    "# 基于高尔夫数据集的 C4.5 决策树"
   ]
  },
  {
   "cell_type": "code",
   "execution_count": 5,
   "id": "ba208af1-d13b-481a-9544-65bb3117d915",
   "metadata": {},
   "outputs": [
    {
     "name": "stdout",
     "output_type": "stream",
     "text": [
      "['yes', 'yes', 'no', 'yes', 'yes']\n",
      "['yes', 'yes', 'no', 'yes', 'yes']\n",
      "accuracy:  1.0\n",
      "precision:  1.0\n",
      "recall:  1.0\n",
      "混淆矩阵:\n"
     ]
    },
    {
     "data": {
      "image/png": "[encoded data removed]",
      "text/plain": [
       "<Figure size 432x288 with 2 Axes>"
      ]
     },
     "metadata": {
      "needs_background": "light"
     },
     "output_type": "display_data"
    }
   ],
   "source": [
    "import pandas as pd\n",
    "from sklearn.model_selection import train_test_split\n",
    "# 载入数据\n",
    "df = pd.read_csv(\"./golf_data.csv\")\n",
    "\n",
    "X = df[[\"humility\",\"outlook\",\"temp\",\"windy\"]]\n",
    "y = df[\"play\"]\n",
    "X_train, X_test, y_train, y_test = train_test_split(X, y, test_size = 0.3)\n",
    "# 创建 ID3 实例模型\n",
    "id3_tree = ID3tree(df, \"play\")\n",
    "\n",
    "# 构建 ID3 决策树\n",
    "id3_tree.construct_tree()\n",
    "\n",
    "# 打印决策树\n",
    "#id3_tree.print_tree(id3_tree.root, \"\")\n",
    "\n",
    "# 预测\n",
    "pred = id3_tree.predict(X_test)\n",
    "y_test = list(y_test)\n",
    "print(y_test)\n",
    "print(pred)\n",
    "\n",
    "# 评价指标\n",
    "print(\"accuracy: \", id3_tree.accuracy(y_test, pred))\n",
    "print(\"precision: \", id3_tree.precision(y_test, pred))\n",
    "print(\"recall: \", id3_tree.recall(y_test, pred))\n",
    "\n",
    "# confusion_matrix\n",
    "print(\"混淆矩阵:\")\n",
    "\n",
    "# print(id3_tree.confusion_matrix(y_test, pred))\n",
    "\n",
    "import matplotlib.pyplot as plt\n",
    "from sklearn import metrics\n",
    "conm = metrics.confusion_matrix(pred, y_test)\n",
    "plt.imshow(conm, cmap = plt.cm.Blues)\n",
    "plt.xticks(range(len(conm)), [\"yes\", \"no\"])\n",
    "plt.yticks(range(len(conm)), [\"yes\", \"no\"])\n",
    "plt.colorbar()\n",
    "plt.xlabel(\"pred\")\n",
    "plt.ylabel(\"true\")\n",
    "plt.title(\"C4.5 decision tree\")\n",
    "for i in range(len(conm)):\n",
    "    for j in range(len(conm)):\n",
    "        plt.text(i, j, conm[i][j])\n",
    "plt.show()"
   ]
  }
 ],
 "metadata": {
  "kernelspec": {
   "display_name": "Python 3 (ipykernel)",
   "language": "python",
   "name": "python3"
  },
  "language_info": {
   "codemirror_mode": {
    "name": "ipython",
    "version": 3
   },
   "file_extension": ".py",
   "mimetype": "text/x-python",
   "name": "python",
   "nbconvert_exporter": "python",
   "pygments_lexer": "ipython3",
   "version": "3.9.7"
  }
 },
 "nbformat": 4,
 "nbformat_minor": 5
}
