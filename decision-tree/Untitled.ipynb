{
 "cells": [
  {
   "cell_type": "markdown",
   "id": "250bd37a-0e68-4c8e-888a-38c1ac79ba24",
   "metadata": {},
   "source": [
    "# 定义熵计算"
   ]
  },
  {
   "cell_type": "code",
   "execution_count": 1,
   "id": "ea9082f1-e5e3-4c49-9c70-5bc83b433457",
   "metadata": {},
   "outputs": [],
   "source": [
    "import numpy as np\n",
    "from math import log\n",
    "def entropy(ele):\n",
    "    \"\"\"\n",
    "    输入:\n",
    "        ->ele:包含类别取值的列表\n",
    "    输出:\n",
    "        ->entropy:信息熵值\n",
    "    \"\"\"\n",
    "    # 计算列表中取值的概率分布\n",
    "    probs = [ele.count(i)/len(ele) for i in set(ele)]\n",
    "    # 计算信息熵\n",
    "    entropy = -sum(prob*log(prob,2) for prob in probs)\n",
    "    return entropy"
   ]
  },
  {
   "cell_type": "markdown",
   "id": "d1666e1b-1ecb-4b88-ba24-9c88dc3f4b4f",
   "metadata": {},
   "source": [
    "# 定义信息增益比计算"
   ]
  },
  {
   "cell_type": "code",
   "execution_count": 7,
   "id": "e6976110-68d9-49d6-9f12-68ac57e31e52",
   "metadata": {},
   "outputs": [
    {
     "name": "stdout",
     "output_type": "stream",
     "text": [
      "0.2467498197744391\n",
      "0.15642756242117517\n"
     ]
    }
   ],
   "source": [
    "import pandas as pd\n",
    "# 以数据集框架读取高尔夫数据集\n",
    "df = pd.read_csv(\"./golf_data.csv\")\n",
    "# 计算数据集的经验熵\n",
    "# \"play\"为目标变量，即是否打高尔夫\n",
    "entropy_D = entropy(df[\"play\"].tolist())\n",
    "# 计算天气特征的经验条件熵\n",
    "# 其中 subset1,subset2,subset3 为根据天气特征三个取值划分之后的子集\n",
    "subset1 = df[df[\"outlook\"]==\"sunny\"]\n",
    "subset2 = df[df[\"outlook\"]==\"overcast\"]\n",
    "subset3 = df[df[\"outlook\"]==\"rainy\"]\n",
    "entropy_DA = len(subset1)/len(df)*entropy(subset1[\"play\"].tolist()) + \\\n",
    "             len(subset2)/len(df)*entropy(subset2[\"play\"].tolist()) + \\\n",
    "             len(subset3)/len(df)*entropy(subset3[\"play\"].tolist())\n",
    "# 计算天气特征的信息增益\n",
    "info_gain = entropy_D - entropy_DA\n",
    "\n",
    "# 计算天气特征的信息增益比\n",
    "entropy_A = entropy(df[\"outlook\"].tolist())\n",
    "\n",
    "info_gain_rate =  info_gain/entropy_A\n",
    "\n",
    "print(info_gain)\n",
    "print(info_gain_rate)"
   ]
  }
 ],
 "metadata": {
  "kernelspec": {
   "display_name": "Python 3 (ipykernel)",
   "language": "python",
   "name": "python3"
  },
  "language_info": {
   "codemirror_mode": {
    "name": "ipython",
    "version": 3
   },
   "file_extension": ".py",
   "mimetype": "text/x-python",
   "name": "python",
   "nbconvert_exporter": "python",
   "pygments_lexer": "ipython3",
   "version": "3.9.7"
  }
 },
 "nbformat": 4,
 "nbformat_minor": 5
}
